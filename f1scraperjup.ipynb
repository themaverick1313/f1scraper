{
 "cells": [
  {
   "cell_type": "code",
   "execution_count": 3,
   "metadata": {},
   "outputs": [],
   "source": [
    "import csv\n",
    "import pandas as pd\n",
    "import numpy as np\n",
    "import requests\n",
    "from bs4 import BeautifulSoup\n",
    "from colorama import Fore, Back, Style\n",
    "import re"
   ]
  },
  {
   "cell_type": "code",
   "execution_count": 4,
   "metadata": {},
   "outputs": [],
   "source": [
    "websiteSource = 'https://www.formula1.com/en/results.html/2022/races/1125/saudi-arabia/race-result.html'\n",
    "websiteSource2 = 'https://www.formula1.com/en/results.html/2022/races/1124/bahrain/race-result.html'"
   ]
  },
  {
   "cell_type": "code",
   "execution_count": 5,
   "metadata": {},
   "outputs": [],
   "source": [
    "teamNameRegex = re.compile(r\"^\\s*[a-zA-Z]*\")\n",
    "\n",
    "firstPlaceRegex = re.compile(\"\\w*\\d:\\d*:\\d*.\\d*\")\n",
    "fastestTimeRegex = re.compile(r\"(?<=\\w\\d{2})\\d{1}:\\d{2}:\\d{2}.\\d*$\")\n",
    "\n",
    "otherPlaceRegex = re.compile(r\"\\w*\\+\\d*.\\d*s\\d*\")\n",
    "otherTimeRegex = re.compile(r\"(?<=\\+)\\d*.\\d*s\\d*\")"
   ]
  },
  {
   "cell_type": "code",
   "execution_count": 6,
   "metadata": {},
   "outputs": [],
   "source": [
    "lapTime = []\n",
    "teamNames = []\n",
    "otherTeamNames = []\n",
    "fastestTime = []"
   ]
  },
  {
   "cell_type": "code",
   "execution_count": 7,
   "metadata": {},
   "outputs": [],
   "source": [
    "def debugBlue(x): print(Fore.CYAN + x)\n",
    "def debugRed(x): print(Fore.RED + x)\n",
    "def debugGreen(x): print(Fore.GREEN + x)"
   ]
  },
  {
   "cell_type": "code",
   "execution_count": 8,
   "metadata": {},
   "outputs": [],
   "source": [
    "#grabbing html from webstie\n",
    "soupData = requests.get(websiteSource).text\n",
    "doc = BeautifulSoup(soupData, \"html.parser\")\n",
    "tables = doc.find_all(\"table\")\n",
    "#creates filterData to be used\n",
    "for my_table in tables:\n",
    "    rows = my_table.findChildren('td')\n",
    "    for row in rows:\n",
    "        cells = row.get_text()\n",
    "        value = cells.strip\n",
    "        lapTime.append(cells)\n",
    "        whiteSpaceRemove = ''.join(lapTime).split()\n",
    "        df = pd.DataFrame(whiteSpaceRemove)\n",
    "        filterData = df.to_string(index=False, header=False)"
   ]
  },
  {
   "cell_type": "code",
   "execution_count": 9,
   "metadata": {},
   "outputs": [],
   "source": [
    "def function(returnedValue,regex1,regex2):\n",
    "    debugBlue('running test function')\n",
    "    variable1 = regex1.findall(regex2)\n",
    "    variable1todataframe = pd.DataFrame(variable1)\n",
    "    returnedValue = variable1todataframe.to_string(index=False, header=False)\n",
    "    debugGreen('inside print')\n",
    "    print(returnedValue)\n",
    "    return returnedValue"
   ]
  },
  {
   "cell_type": "code",
   "execution_count": 10,
   "metadata": {},
   "outputs": [],
   "source": [
    "def findallFunction(returnedValue,regex1,regex2):\n",
    "    debugBlue('running test function')\n",
    "    variable1 = regex1.findall(regex2)\n",
    "    variable1todataframe = pd.DataFrame(variable1)\n",
    "    returnedValue = variable1todataframe.to_string(index=False, header=False)\n",
    "    debugGreen('inside print')\n",
    "    print(returnedValue)\n",
    "    return returnedValue\n",
    "\n",
    "def pullTableLapDataText(regex1,regex2):\n",
    "    dataForDataFrame1 = regex1.findall(filterData)\n",
    "    dataToString1 = pd.DataFrame(dataForDataFrame1)\n",
    "    breakIntoColumns1 = dataToString1.to_string(index=False, header=False)\n",
    "\n",
    "\n",
    "    names = regex2.findall(breakIntoColumns1)\n",
    "    teamNames.append(names)\n",
    "    teamdNamesdf = pd.DataFrame(teamNames)\n",
    "    teamNamesString = teamdNamesdf.to_string(index=False, header=False)\n",
    "    print('firstNamestring')\n",
    "    print(teamNamesString)\n",
    "    #you found what you are looking for\n",
    "    findallFunction(df,fastestTimeRegex,breakIntoColumns1)\n",
    "\n",
    "    # fastestRace = regex3.findall(breakIntoColumns1)\n",
    "    # fastestTime.append(fastestRace)\n",
    "    # fastestTime\n",
    "\n",
    "    # otherNames = otherPlaceRegex.findall(breakIntoColumns1)\n",
    "    # print(otherNames)\n",
    "    # otherTeamNames.append(otherNames)\n",
    "    # otherTeamNamesdf = pd.DataFrame(otherTeamNames)\n",
    "    # print(otherTeamNamesdf)\n",
    "    # otherTeamNamesString = otherTeamNamesdf.to_string(index=False, header=False)\n",
    "    # debugBlue('otherteamnamestring')\n",
    "    # print(otherTeamNamesString)"
   ]
  },
  {
   "cell_type": "code",
   "execution_count": 11,
   "metadata": {},
   "outputs": [
    {
     "name": "stdout",
     "output_type": "stream",
     "text": [
      "firstNamestring\n",
      "RBPT\n",
      "\u001b[36mrunning test function\n",
      "\u001b[32minside print\n",
      "1:24:19.29325216\n",
      "\u001b[31moutside print\n"
     ]
    }
   ],
   "source": [
    "pullTableLapDataText(firstPlaceRegex,teamNameRegex)"
   ]
  }
 ],
 "metadata": {
  "kernelspec": {
   "display_name": "Python 3",
   "language": "python",
   "name": "python3"
  },
  "language_info": {
   "codemirror_mode": {
    "name": "ipython",
    "version": 3
   },
   "file_extension": ".py",
   "mimetype": "text/x-python",
   "name": "python",
   "nbconvert_exporter": "python",
   "pygments_lexer": "ipython3",
   "version": "3.10.9"
  },
  "orig_nbformat": 4,
  "vscode": {
   "interpreter": {
    "hash": "413a289a4703cf06b5a0c26782818e6cb6295df496469014c5685808e0acf7a8"
   }
  }
 },
 "nbformat": 4,
 "nbformat_minor": 2
}
