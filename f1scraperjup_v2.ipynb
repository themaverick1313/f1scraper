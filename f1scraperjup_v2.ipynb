{
 "cells": [
  {
   "cell_type": "code",
   "execution_count": 64,
   "metadata": {},
   "outputs": [],
   "source": [
    "import csv\n",
    "import pandas as pd\n",
    "import numpy as np\n",
    "import requests\n",
    "from bs4 import BeautifulSoup\n",
    "from colorama import Fore, Back, Style\n",
    "import re"
   ]
  },
  {
   "cell_type": "code",
   "execution_count": 65,
   "metadata": {},
   "outputs": [],
   "source": [
    "websiteSource = 'https://www.formula1.com/en/results.html/2022/races/1111/spain/race-result.html'\n",
    "websiteSource2 = 'https://www.formula1.com/en/results.html/2022/races/1124/bahrain/race-result.html'"
   ]
  },
  {
   "cell_type": "code",
   "execution_count": 66,
   "metadata": {},
   "outputs": [],
   "source": [
    "lapTime = []\n",
    "teamNames = []\n",
    "otherTeamNames = []\n",
    "fastestTime = []\n"
   ]
  },
  {
   "cell_type": "code",
   "execution_count": 67,
   "metadata": {},
   "outputs": [
    {
     "name": "stdout",
     "output_type": "stream",
     "text": [
      "Empty DataFrame\n",
      "Columns: []\n",
      "Index: []\n"
     ]
    }
   ],
   "source": [
    "masterDataFrame = pd.DataFrame()\n",
    "print (masterDataFrame)"
   ]
  },
  {
   "cell_type": "code",
   "execution_count": 68,
   "metadata": {},
   "outputs": [],
   "source": [
    "def debugBlue(x): print(Fore.CYAN + x)\n",
    "def debugRed(x): print(Fore.RED + x)\n",
    "def debugGreen(x): print(Fore.GREEN + x)"
   ]
  },
  {
   "cell_type": "code",
   "execution_count": 69,
   "metadata": {},
   "outputs": [],
   "source": [
    "teamNameRegex = re.compile(r\"^\\s*[a-zA-Z]*\")\n",
    "\n",
    "#winner\n",
    "firstPlaceRegex = re.compile(\"\\w*\\d:\\d*:\\d*.\\d*\")\n",
    "fastestTimeRegex = re.compile(r\"(?<=\\w\\d{2})\\d{1}:\\d{2}:\\d{2}.\\d{3}\")\n",
    "firstCarNumRegex = re.compile(r\"(?<=)\")\n",
    "#restoffield\n",
    "otherPlaceRegex = re.compile(r\"\\w*\\+\\d*.\\d*s\\d*\")\n",
    "otherTimeRegex = re.compile(r\"(?<=\\+)\\d*.\\d*s\\d{3}\")\n",
    "otherCarNumRegex = re.compile(r\"(?<=s\\d{3})\\d{2}\")"
   ]
  },
  {
   "cell_type": "code",
   "execution_count": 70,
   "metadata": {},
   "outputs": [
    {
     "name": "stdout",
     "output_type": "stream",
     "text": [
      "['116', 'Charles', 'Leclerc', 'LEC', 'Ferrari571:37:33.58426255', 'Carlos', 'Sainz', 'SAI', 'Ferrari57+5.598s18344', 'Lewis', 'Hamilton', 'HAM', 'Mercedes57+9.675s15463', 'George', 'Russell', 'RUS', 'Mercedes57+11.211s12520', 'Kevin', 'Magnussen', 'MAG', 'Haas', 'Ferrari57+14.754s10677', 'Valtteri', 'Bottas', 'BOT', 'Alfa', 'Romeo', 'Ferrari57+16.119s8731', 'Esteban', 'Ocon', 'OCO', 'Alpine', 'Renault57+19.423s6822', 'Yuki', 'Tsunoda', 'TSU', 'AlphaTauri', 'RBPT57+20.386s4914', 'Fernando', 'Alonso', 'ALO', 'Alpine', 'Renault57+22.390s21024', 'Zhou', 'Guanyu', 'ZHO', 'Alfa', 'Romeo', 'Ferrari57+23.064s11147', 'Mick', 'Schumacher', 'MSC', 'Haas', 'Ferrari57+32.574s01218', 'Lance', 'Stroll', 'STR', 'Aston', 'Martin', 'Aramco', 'Mercedes57+45.873s01323', 'Alexander', 'Albon', 'ALB', 'Williams', 'Mercedes57+53.932s0143', 'Daniel', 'Ricciardo', 'RIC', 'McLaren', 'Mercedes57+54.975s0154', 'Lando', 'Norris', 'NOR', 'McLaren', 'Mercedes57+56.335s0166', 'Nicholas', 'Latifi', 'LAT', 'Williams', 'Mercedes57+61.795s01727', 'Nico', 'Hulkenberg', 'HUL', 'Aston', 'Martin', 'Aramco', 'Mercedes57+63.829s01811', 'Sergio', 'Perez', 'PER', 'Red', 'Bull', 'Racing', 'RBPT56DNF0191', 'Max', 'Verstappen', 'VER', 'Red', 'Bull', 'Racing', 'RBPT54DNF0NC10', 'Pierre', 'Gasly', 'GAS', 'AlphaTauri', 'RBPT44DNF0']\n"
     ]
    }
   ],
   "source": [
    "#grabbing html from webstie\n",
    "soupData = requests.get(websiteSource2).text\n",
    "doc = BeautifulSoup(soupData, \"html.parser\")\n",
    "tables = doc.find_all(\"table\")\n",
    "#creates filterData to be used\n",
    "for my_table in tables:\n",
    "    rows = my_table.findChildren('td')\n",
    "    for row in rows:\n",
    "        cells = row.get_text()\n",
    "        value = cells.strip\n",
    "        lapTime.append(cells)\n",
    "    whiteSpaceRemove = ''.join(lapTime).split()\n",
    "    df = pd.DataFrame(whiteSpaceRemove)\n",
    "    filterData = df.to_string(index=False,header=False)\n",
    "    print(whiteSpaceRemove)"
   ]
  },
  {
   "cell_type": "code",
   "execution_count": 71,
   "metadata": {},
   "outputs": [],
   "source": [
    "def findallFunction(regex1,regex2):\n",
    "    variable1 = regex1.findall(regex2)\n",
    "    variable1todataframe = pd.DataFrame({\"raceTime\":variable1})\n",
    "    concatdf = pd.concat([masterDataFrame,variable1todataframe])\n",
    "    print(concatdf)\n",
    "    #returnedValue = variable1todataframe.to_string(index=False, header=False)\n",
    "\n",
    "def pullTableLapDataText(regex1,regex2):\n",
    "    dataForDataFrame1 = regex1.findall(filterData)\n",
    "    dataToString1 = pd.DataFrame(dataForDataFrame1)\n",
    "    breakIntoColumns1 = dataToString1.to_string(index=False, header=False)\n",
    "    findallFunction(regex2,breakIntoColumns1)"
   ]
  },
  {
   "cell_type": "code",
   "execution_count": 72,
   "metadata": {},
   "outputs": [
    {
     "name": "stdout",
     "output_type": "stream",
     "text": [
      "      raceTime\n",
      "0  1:37:33.584\n",
      "  raceTime\n",
      "0       44\n",
      "1       63\n",
      "2       20\n",
      "3       77\n",
      "4       24\n",
      "5       47\n",
      "6       18\n",
      "7       23\n",
      "8       27\n",
      "9       11\n"
     ]
    }
   ],
   "source": [
    "#fastestTime\n",
    "pullTableLapDataText(firstPlaceRegex,fastestTimeRegex)\n",
    "#otherTime\n",
    "# pullTableLapDataText(otherPlaceRegex,otherTimeRegex)\n",
    "# #driver number\n",
    "pullTableLapDataText(otherPlaceRegex,driverNumberRegex)\n"
   ]
  }
 ],
 "metadata": {
  "kernelspec": {
   "display_name": "Python 3",
   "language": "python",
   "name": "python3"
  },
  "language_info": {
   "codemirror_mode": {
    "name": "ipython",
    "version": 3
   },
   "file_extension": ".py",
   "mimetype": "text/x-python",
   "name": "python",
   "nbconvert_exporter": "python",
   "pygments_lexer": "ipython3",
   "version": "3.11.0"
  },
  "orig_nbformat": 4,
  "vscode": {
   "interpreter": {
    "hash": "aee8b7b246df8f9039afb4144a1f6fd8d2ca17a180786b69acc140d282b71a49"
   }
  }
 },
 "nbformat": 4,
 "nbformat_minor": 2
}
