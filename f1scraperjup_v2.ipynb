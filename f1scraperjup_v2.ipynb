{
 "cells": [
  {
   "cell_type": "code",
   "execution_count": 120,
   "metadata": {},
   "outputs": [],
   "source": [
    "import csv\n",
    "import pandas as pd\n",
    "import numpy as np\n",
    "import requests\n",
    "from bs4 import BeautifulSoup\n",
    "from colorama import Fore, Back, Style\n",
    "import re"
   ]
  },
  {
   "cell_type": "code",
   "execution_count": 121,
   "metadata": {},
   "outputs": [],
   "source": [
    "websiteSource = 'https://www.formula1.com/en/results.html/2022/races/1111/spain/race-result.html'\n",
    "websiteSource2 = 'https://www.formula1.com/en/results.html/2022/races/1124/bahrain/race-result.html'"
   ]
  },
  {
   "cell_type": "code",
   "execution_count": 122,
   "metadata": {},
   "outputs": [],
   "source": [
    "lapTime = []\n",
    "teamNames = []\n",
    "otherTeamNames = []\n",
    "fastestTime = []"
   ]
  },
  {
   "cell_type": "code",
   "execution_count": 123,
   "metadata": {},
   "outputs": [],
   "source": [
    "def debugBlue(x): print(Fore.CYAN + x)\n",
    "def debugRed(x): print(Fore.RED + x)\n",
    "def debugGreen(x): print(Fore.GREEN + x)"
   ]
  },
  {
   "cell_type": "code",
   "execution_count": 124,
   "metadata": {},
   "outputs": [],
   "source": [
    "teamNameRegex = re.compile(r\"^\\s*[a-zA-Z]*\")\n",
    "otherNumberRegex = re.compile(r\"(?<=s\\d{3})\\d{2}\")\n",
    "\n",
    "firstPlaceRegex = re.compile(\"\\w*\\d:\\d*:\\d*.\\d*\")\n",
    "fastestTimeRegex = re.compile(r\"(?<=\\w\\d{2})\\d{1}:\\d{2}:\\d{2}.\\d{3}\")\n",
    "\n",
    "otherPlaceRegex = re.compile(r\"\\w*\\+\\d*.\\d*s\\d*\")\n",
    "otherTimeRegex = re.compile(r\"(?<=\\+)\\d*.\\d*s\\d{3}\")\n"
   ]
  },
  {
   "cell_type": "code",
   "execution_count": 125,
   "metadata": {},
   "outputs": [],
   "source": [
    "#grabbing html from webstie\n",
    "soupData = requests.get(websiteSource2).text\n",
    "doc = BeautifulSoup(soupData, \"html.parser\")\n",
    "tables = doc.find_all(\"table\")\n",
    "#creates filterData to be used\n",
    "for my_table in tables:\n",
    "    rows = my_table.findChildren('td')\n",
    "    for row in rows:\n",
    "        cells = row.get_text()\n",
    "        value = cells.strip\n",
    "        lapTime.append(cells)\n",
    "    whiteSpaceRemove = ''.join(lapTime).split()\n",
    "    df = pd.DataFrame(whiteSpaceRemove)\n",
    "    filterData = df.to_string(index=False,header=False)"
   ]
  },
  {
   "cell_type": "code",
   "execution_count": 126,
   "metadata": {},
   "outputs": [],
   "source": [
    "def findallFunction(regex1,regex2):\n",
    "    variable1 = regex1.findall(regex2)\n",
    "    variable1todataframe = pd.DataFrame(variable1)\n",
    "    returnedValue = variable1todataframe.to_string(index=False, header=False)\n",
    "    print(variable1todataframe)\n",
    "\n",
    "def pullTableLapDataText(regex1,regex2):\n",
    "    dataForDataFrame1 = regex1.findall(filterData)\n",
    "    dataToString1 = pd.DataFrame(dataForDataFrame1)\n",
    "    breakIntoColumns1 = dataToString1.to_string(index=False, header=False)\n",
    "    #breakintocolumns is broken because of regex1\n",
    "    findallFunction(regex2,breakIntoColumns1)"
   ]
  },
  {
   "cell_type": "code",
   "execution_count": 127,
   "metadata": {},
   "outputs": [
    {
     "name": "stdout",
     "output_type": "stream",
     "text": [
      "1:37:33.584\n"
     ]
    }
   ],
   "source": [
    "#fastestTime\n",
    "pullTableLapDataText(firstPlaceRegex,fastestTimeRegex)"
   ]
  }
 ],
 "metadata": {
  "kernelspec": {
   "display_name": "Python 3",
   "language": "python",
   "name": "python3"
  },
  "language_info": {
   "codemirror_mode": {
    "name": "ipython",
    "version": 3
   },
   "file_extension": ".py",
   "mimetype": "text/x-python",
   "name": "python",
   "nbconvert_exporter": "python",
   "pygments_lexer": "ipython3",
   "version": "3.11.0"
  },
  "orig_nbformat": 4,
  "vscode": {
   "interpreter": {
    "hash": "aee8b7b246df8f9039afb4144a1f6fd8d2ca17a180786b69acc140d282b71a49"
   }
  }
 },
 "nbformat": 4,
 "nbformat_minor": 2
}
