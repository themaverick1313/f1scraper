{
 "cells": [
  {
   "cell_type": "code",
   "execution_count": 9,
   "metadata": {},
   "outputs": [],
   "source": [
    "import csv\n",
    "import pandas as pd\n",
    "import numpy as np\n",
    "import requests\n",
    "from bs4 import BeautifulSoup\n",
    "from colorama import Fore, Back, Style\n",
    "import re"
   ]
  },
  {
   "cell_type": "code",
   "execution_count": 10,
   "metadata": {},
   "outputs": [],
   "source": [
    "websiteSource = 'https://www.pandora.com/profile/thumbs/dolok12340'"
   ]
  },
  {
   "cell_type": "code",
   "execution_count": 11,
   "metadata": {},
   "outputs": [],
   "source": [
    "lapTime = []\n",
    "teamNames = []\n",
    "otherTeamNames = []\n",
    "fastestTime = []\n"
   ]
  },
  {
   "cell_type": "code",
   "execution_count": 12,
   "metadata": {},
   "outputs": [
    {
     "name": "stdout",
     "output_type": "stream",
     "text": [
      "Empty DataFrame\n",
      "Columns: []\n",
      "Index: []\n"
     ]
    }
   ],
   "source": [
    "masterDataFrame = pd.DataFrame()\n",
    "print (masterDataFrame)"
   ]
  },
  {
   "cell_type": "code",
   "execution_count": 13,
   "metadata": {},
   "outputs": [],
   "source": [
    "def debugBlue(x): print(Fore.CYAN + x)\n",
    "def debugRed(x): print(Fore.RED + x)\n",
    "def debugGreen(x): print(Fore.GREEN + x)\n",
    "\n",
    "# a class = MediaListsItem_secondaryText\n",
    "\n",
    "# a class = MediaListsItem_primatryText"
   ]
  },
  {
   "cell_type": "code",
   "execution_count": 19,
   "metadata": {},
   "outputs": [
    {
     "data": {
      "text/plain": [
       "[]"
      ]
     },
     "execution_count": 19,
     "metadata": {},
     "output_type": "execute_result"
    }
   ],
   "source": [
    "#grabbing html from webstie\n",
    "soupData = requests.get(websiteSource).text\n",
    "doc = BeautifulSoup(soupData, \"html.parser\")\n",
    "findPrimary = doc.find_all(\"a\",{:\"MediaListsItem_primatryText\"})\n",
    "for primaryText in findPrimary:\n",
    "    title = primaryText.get_text()\n",
    "    print(title)\n",
    "    print(\"itran\")\n",
    "findPrimary"
   ]
  },
  {
   "cell_type": "code",
   "execution_count": 15,
   "metadata": {},
   "outputs": [],
   "source": [
    "teamNameRegex = re.compile(r\"^\\s*[a-zA-Z]*\")\n",
    "\n",
    "#winner\n",
    "firstPlaceRegex = re.compile(\"\\w*\\d:\\d*:\\d*.\\d*\")\n",
    "fastestTimeRegex = re.compile(r\"(?<=\\w\\d{2})\\d{1}:\\d{2}:\\d{2}.\\d{3}\")\n",
    "firstCarNumRegex = re.compile(r\"(?<=)\")\n",
    "#restoffield\n",
    "otherPlaceRegex = re.compile(r\"\\w*\\+\\d*.\\d*s\\d*\")\n",
    "otherTimeRegex = re.compile(r\"(?<=\\+)\\d*.\\d*s\\d{3}\")\n",
    "otherCarNumRegex = re.compile(r\"(?<=s\\d{3})\\d{2}\")"
   ]
  },
  {
   "cell_type": "code",
   "execution_count": 16,
   "metadata": {},
   "outputs": [
    {
     "ename": "NameError",
     "evalue": "name 'websiteSource2' is not defined",
     "output_type": "error",
     "traceback": [
      "\u001b[0;31m---------------------------------------------------------------------------\u001b[0m",
      "\u001b[0;31mNameError\u001b[0m                                 Traceback (most recent call last)",
      "Cell \u001b[0;32mIn[16], line 2\u001b[0m\n\u001b[1;32m      1\u001b[0m \u001b[39m#grabbing html from webstie\u001b[39;00m\n\u001b[0;32m----> 2\u001b[0m soupData \u001b[39m=\u001b[39m requests\u001b[39m.\u001b[39mget(websiteSource2)\u001b[39m.\u001b[39mtext\n\u001b[1;32m      3\u001b[0m doc \u001b[39m=\u001b[39m BeautifulSoup(soupData, \u001b[39m\"\u001b[39m\u001b[39mhtml.parser\u001b[39m\u001b[39m\"\u001b[39m)\n\u001b[1;32m      4\u001b[0m tables \u001b[39m=\u001b[39m doc\u001b[39m.\u001b[39mfind_all(\u001b[39m\"\u001b[39m\u001b[39mtable\u001b[39m\u001b[39m\"\u001b[39m)\n",
      "\u001b[0;31mNameError\u001b[0m: name 'websiteSource2' is not defined"
     ]
    }
   ],
   "source": [
    "#grabbing html from webstie\n",
    "soupData = requests.get(websiteSource2).text\n",
    "doc = BeautifulSoup(soupData, \"html.parser\")\n",
    "tables = doc.find_all(\"table\")\n",
    "#creates filterData to be used\n",
    "for my_table in tables:\n",
    "    rows = my_table.findChildren('td')\n",
    "    for row in rows:\n",
    "        cells = row.get_text()\n",
    "        value = cells.strip\n",
    "        lapTime.append(cells)\n",
    "    whiteSpaceRemove = ''.join(lapTime).split()\n",
    "    df = pd.DataFrame(whiteSpaceRemove)\n",
    "    filterData = df.to_string(index=False,header=False)\n",
    "    print(whiteSpaceRemove)"
   ]
  },
  {
   "cell_type": "code",
   "execution_count": null,
   "metadata": {},
   "outputs": [],
   "source": [
    "def findallFunction(regex1,regex2):\n",
    "    variable1 = regex1.findall(regex2)\n",
    "    variable1todataframe = pd.DataFrame({\"raceTime\":variable1})\n",
    "    concatdf = pd.concat([masterDataFrame,variable1todataframe])\n",
    "    print(concatdf)\n",
    "    #returnedValue = variable1todataframe.to_string(index=False, header=False)\n",
    "\n",
    "def pullTableLapDataText(regex1,regex2):\n",
    "    dataForDataFrame1 = regex1.findall(filterData)\n",
    "    dataToString1 = pd.DataFrame(dataForDataFrame1)\n",
    "    breakIntoColumns1 = dataToString1.to_string(index=False, header=False)\n",
    "    findallFunction(regex2,breakIntoColumns1)"
   ]
  },
  {
   "cell_type": "code",
   "execution_count": null,
   "metadata": {},
   "outputs": [
    {
     "name": "stdout",
     "output_type": "stream",
     "text": [
      "      raceTime\n",
      "0  1:37:33.584\n",
      "  raceTime\n",
      "0       44\n",
      "1       63\n",
      "2       20\n",
      "3       77\n",
      "4       24\n",
      "5       47\n",
      "6       18\n",
      "7       23\n",
      "8       27\n",
      "9       11\n"
     ]
    }
   ],
   "source": [
    "#fastestTime\n",
    "pullTableLapDataText(firstPlaceRegex,fastestTimeRegex)\n",
    "#otherTime\n",
    "# pullTableLapDataText(otherPlaceRegex,otherTimeRegex)\n",
    "# #driver number\n",
    "pullTableLapDataText(otherPlaceRegex,driverNumberRegex)\n"
   ]
  }
 ],
 "metadata": {
  "kernelspec": {
   "display_name": "Python 3",
   "language": "python",
   "name": "python3"
  },
  "language_info": {
   "codemirror_mode": {
    "name": "ipython",
    "version": 3
   },
   "file_extension": ".py",
   "mimetype": "text/x-python",
   "name": "python",
   "nbconvert_exporter": "python",
   "pygments_lexer": "ipython3",
   "version": "3.11.2"
  },
  "orig_nbformat": 4,
  "vscode": {
   "interpreter": {
    "hash": "aee8b7b246df8f9039afb4144a1f6fd8d2ca17a180786b69acc140d282b71a49"
   }
  }
 },
 "nbformat": 4,
 "nbformat_minor": 2
}
